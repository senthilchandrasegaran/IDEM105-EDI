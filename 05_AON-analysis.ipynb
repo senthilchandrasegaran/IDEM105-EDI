{
 "cells": [
  {
   "cell_type": "markdown",
   "id": "a7c79e12-8489-47fc-8637-a5686e37b806",
   "metadata": {},
   "source": [
    "# Plotting the narrative arc of a story\n",
    "\n",
    "This is an attempt to replicate the approach of [Boyd et al. (2020)](https://www.science.org/doi/10.1126/sciadv.aba2196) based on the [narrative arc category dictionaries](https://osf.io/2ztvq/?view_only=3ec61cf65c08476f926624893d0d6fc3) shared on OSF. \n",
    "\n",
    "**COLAB NOTEBOOK VERSION:** To run this notebook in CoLab, please [click here](https://colab.research.google.com/github/senthilchandrasegaran/IDEM105-EDI/blob/main/05_AON-analysis.ipynb)."
   ]
  },
  {
   "cell_type": "code",
   "execution_count": 1,
   "id": "297ec08f-d178-40d2-a5ff-21044383f243",
   "metadata": {},
   "outputs": [],
   "source": [
    "import re\n",
    "import nltk\n",
    "import math\n",
    "import pandas as pd\n",
    "import seaborn as sns\n",
    "from nltk import word_tokenize\n",
    "\n",
    "# nltk.download('punkt_tab')  # comment this line after the first time you run this code."
   ]
  },
  {
   "cell_type": "markdown",
   "id": "16e29b53-3a7d-4846-a484-b471f52275fd",
   "metadata": {},
   "source": [
    "## Insert story here.\n",
    "You can copy-paste your own story to replace the text below.\n",
    "\n",
    "**NOTE:**\n",
    "Please take care not to delete the quotation marks (`\"\"\"`) above and below the text."
   ]
  },
  {
   "cell_type": "code",
   "execution_count": 2,
   "id": "646eb858-ee9a-4219-9b29-158132fc75ee",
   "metadata": {},
   "outputs": [],
   "source": [
    "story_text = \"\"\"\n",
    "\n",
    "Once upon a time, I encountered a chair. Not just any chair, but one that spoke a language of design I hadn’t known I could understand. It was the Eames Lounge Chair—a masterpiece of form meeting function. \n",
    "The first time I saw it, it was in the corner of a quiet library, bathed in soft light. Its curved walnut veneer gleamed like a polished gemstone, and the black leather cushions looked as inviting as a cloud. But it wasn’t just its appearance that captivated me. It was the story embedded in its curves.\n",
    "This chair was designed not to impress but to embrace. Charles and Ray Eames, the visionaries behind it, wanted to create something that felt like a \"warm, receptive look of a well-used first baseman's mitt.\" The idea struck me: design could be more than utility or beauty—it could evoke emotion and connection.\n",
    "I sat in it, hesitant at first, as though I might disturb the perfection. But the moment I leaned back, I felt the thoughtfulness of every detail. The angle of the backrest cradled my spine just right. The swivel base turned with a whisper, as if anticipating my movements. It was more than comfortable—it was comforting.\n",
    "That experience changed how I saw the world. I began to notice the intention in other designs—the way a faucet handle fit perfectly in my hand, the satisfying *click* of a well-engineered pen, the rhythm of a thoughtfully designed webpage. I fell in love not just with the chair but with the very idea that design could bridge the gap between the practical and the poetic.\n",
    "And ever since, I’ve been chasing that feeling, seeking out objects, spaces, and ideas that carry that same sense of care and connection. Because when design is done well, it reminds us not just of what we need, but of what we deserve—a world made with love.\n",
    "\n",
    "\"\"\""
   ]
  },
  {
   "cell_type": "markdown",
   "id": "54d8d179-c131-427d-97af-090db3c1ff97",
   "metadata": {},
   "source": [
    "## Dictionary categories\n",
    "The narrative arc is calculated along three dimensions---staging, plot progression, and cognitive tension. The terms belonging under each dimension is written as a separate dictionary category below."
   ]
  },
  {
   "cell_type": "code",
   "execution_count": 3,
   "id": "c977f956-716f-4d82-99d2-9170a7dd6774",
   "metadata": {},
   "outputs": [],
   "source": [
    "staging_terms = ['a', 'about', 'above', 'abt', 'across', 'after', 'against', 'ahead', 'along', 'amid', 'amidst', 'among*', 'an', 'around', 'as', 'at', 'atop', 'away', 'before', 'behind', 'below', 'beneath', 'beside', 'besides', 'between', 'beyond', 'by', 'despite', 'down', 'during', 'except', 'for', 'from', 'hereafter', 'in', 'including', 'inside', 'insides', 'into', 'minus', 'near', 'of', 'off', 'on', 'onto', 'out', 'outside', 'over', 'plus', 'regarding', 'respecting', 'sans', 'since', 'than', 'the', 'through*', 'thru', 'til', 'till', 'to', 'toward*', 'under', 'underneath', 'unless', 'unlike', 'until', 'unto', 'up', 'upon', 'versus', 'via', 'vs', 'with', 'within', 'without']"
   ]
  },
  {
   "cell_type": "code",
   "execution_count": 4,
   "id": "f4287ed1-94b8-4637-99c3-2c540973410b",
   "metadata": {},
   "outputs": [],
   "source": [
    "plot_progression_terms = ['absolutely', 'actually', 'again', 'aint', \"ain't\", 'all', 'almost', 'already', 'also', 'alternatively', 'altho', 'although', 'altogether', 'always', 'am', 'and', 'another', 'any', 'anybod*', 'anyhow', 'anymore', 'anyone*', 'anything', 'anytime', 'anyway*', 'anywhere', 'apparently', 'are', 'arent', \"aren't\", 'awhile', 'back', 'barely', 'basically', 'bc', 'be', 'became', 'because', 'become', 'becomes', 'becoming', 'been', 'being', 'briefly', 'but', 'can', 'cannot', 'cant', \"can't\", 'certainly', 'clearly', 'commonly', 'completely', 'constantly', 'continually', 'cos', 'could', 'couldnt', \"couldn't\", 'couldve', \"could've\", 'coz', 'cuz', 'deez', 'definitely', 'did', 'didnt', \"didn't\", 'do', 'does', 'doesnt', \"doesn't\", 'doing', 'done', 'dont', \"don't\", 'either', 'else', 'especially', 'essentially', 'even', 'eventually', 'ever', 'everybod*', 'everyday', 'everyone*', 'everything*', 'everytime', 'everywhere*', 'exclusively', 'extremely', 'fairly', 'finally', 'forever', 'fortunately', 'frankly', 'frequently', 'fully', 'fundamentally', 'generally', 'gunna', 'had', 'hadnt', \"hadn't\", 'hardly', 'has', 'hasnt', \"hasn't\", 'have', 'havent', \"haven't\", 'having', 'he', \"he'd\", 'hence', 'henceforth', 'her', 'here', 'herein', 'heres', \"here's\", 'hereto*', 'hers', 'herself', 'hes', \"he's\", 'him', 'himself', 'his', 'hissel*', 'hopefully', 'how', 'howd', \"how'd\", 'however', 'howre', \"how're\", 'hows', \"how's\", 'i', 'id', \"i'd\", 'idc', 'idgaf', 'idk', 'idontknow', 'idve', \"i'd've\", 'if', 'ikr', \"i'll\", 'ily*', 'im', \"i'm\", 'ima', 'imean', 'imma', 'immediately', 'indeed', 'instead', 'is', 'isnt', \"isn't\", 'it', 'itd', \"it'd\", 'itll', \"it'll\", 'its', \"it's\", 'itself', 'ive', \"i've\", 'jus', 'just', 'juz', 'lately', 'let', 'lets', \"let's\", 'mainly', 'may', 'maybe', 'me', 'meanwhile', 'methinks', 'might', 'mightve', \"might've\", 'mine', 'most', 'mostly', 'must', 'mustnt', \"mustn't\", \"must'nt\", 'mustve', \"must've\", 'my', 'myself', 'nah*', 'namely', 'nearly', 'neednt', \"needn't\", \"need'nt\", 'negat*', 'neither', 'never', 'nevertheless', 'no', 'nobod*', 'noes', 'none', 'nonetheless', 'nope', 'nor', 'normally', 'not', 'nothing', 'notwithstanding', 'now', 'nowhere', 'np', 'obviously', 'often', 'oneself', 'only', 'or', 'originally', 'other', 'others', 'otherwise', 'ought', 'oughta', 'oughtnt', \"oughtn't\", \"ought'nt\", 'oughtve', \"ought've\", 'our', 'ours', 'ourselves', 'particularly', 'perhaps', 'possibily', 'potentially', 'practically', 'presently', 'presumedly', 'presumingly', 'primarily', 'principally', 'probably', 'prolly', 'quite', 'randomly', 'rarely', 'rather', 'really', 'regardless', 'regularly', 'relatively', 'respectively', 'seldomly', 'separately', 'seriously', 'shall', 'shant', \"shan't\", 'she', \"she'd\", \"she'll\", 'shes', \"she's\", 'shortly', 'should', 'shouldnt', \"shouldn't\", \"should'nt\", 'shouldve', \"should've\", 'simply', 'so', 'some', 'somebod*', 'someday', 'somehow', 'someone*', 'something*', 'sometime', 'sometimes', 'somewhat', 'somewhere', 'soon', 'sooo*', 'specifically', 'still', 'stuff', 'subsequently', 'such', 'suddenly', 'supposedly', 'surely', 'that', 'thatd', \"that'd\", 'thatll', \"that'll\", 'thats', \"that's\", 'thee', 'their*', 'them', 'themself', 'themselves', 'then', 'there', 'thereafter', 'therefor*', 'theres', \"there's\", 'these', 'they', 'theyd', \"they'd\", 'theyll', \"they'll\", 'theyre', \"they're\", 'theyve', \"they've\", 'thine', 'thing*', 'this', 'tho', \"tho'\", 'those', 'thou', 'though', 'thoust', 'thus*', 'thy', 'thyself', 'too', 'totally', 'truly', 'tryna', 'typically', 'u', 'uh-uh', 'ultimately', 'unable', 'uncommonly', 'ur', 'us', 'usually', 'vastly', 'very', 'virtually', 'visibly', 'wanna', 'was', 'wasnt', \"wasn't\", 'we', \"we'd\", 'well', \"we'll\", 'were', \"we're\", 'werent', \"weren't\", 'weve', \"we've\", 'what', 'whatd', \"what'd\", 'whatever', 'whatll', \"what'll\", 'whats', \"what's\", 'when', \"when'*\", 'whence', 'whenever', 'where', 'whereas', 'whereby', \"where'd\", 'wherefore', 'wherein', 'whereof', 'wherever', 'whether', 'which', 'whichever', 'while', 'whilst', 'whither', 'who', 'whod', \"who'd\", 'whoever', 'wholl', \"who'll\", 'wholly', 'whom', 'whomever', 'whos', \"who's\", 'whose', 'whosever', 'whoso*', 'why', \"why'*\", 'whyever', 'will', 'wont', \"won't\", 'would', 'wouldnt', \"wouldn't\", 'wouldve', \"would've\", 'ya', 'yall', \"y'all\", \"ya'll*\", 'yalls', \"y'all's\", 'ye', 'yet', 'yinz*', 'you', 'youd', \"you'd\", 'youll', \"you'll\", 'your', 'youre', \"you're\", 'yours', 'yourself', 'yourselves', 'youve', \"you've\"]"
   ]
  },
  {
   "cell_type": "code",
   "execution_count": 5,
   "id": "ea4e2f02-fa9d-4e97-b01f-5815cecd327b",
   "metadata": {},
   "outputs": [],
   "source": [
    "cognitive_tension_terms = ['abnormal*', 'acknowledg*', 'actually', 'adjust*', 'admit', 'admits', 'admitted', 'admitting', 'affect', 'affected', 'affecting', 'affects', 'afterthought*', 'also', 'alternate', 'alternative', 'alternatively', 'alternatives', 'altho', 'although', 'ambigu*', 'analy*', 'answer*', 'apparent', 'apparently', 'apprehens*', 'approximat*', 'arbitrar*', 'assess*', 'assum*', 'assur*', 'attent*', 'attribut*', 'aware*', 'based', 'basically', 'basis', 'bc', 'because', 'belief*', 'believe', 'believed', 'believes', 'believing', 'brain*', 'but', 'calcul*', 'categor*', 'caus*', 'certain', 'certainly', 'choice*', 'choos*', 'clarif*', 'clue', 'cogniz*', 'cohere*', 'compel*', 'complex', 'complexity', 'complicat*', 'compreh*', 'concentrat*', 'conclud*', 'conclus*', 'confuse', 'confused', 'confuses', 'confusing', 'confusion*', 'conjectur*', 'conscious*', 'consequen*', 'consider', 'consideration', 'considered', 'considering', 'considers', 'contemplat*', 'contingen*', 'convinc*', 'correct*', 'correlat*', 'cos', 'coz', 'creativ*', 'curio*', 'cuz', 'decide', 'decided', 'decides', 'deciding', 'decis*', 'deduc*', 'deem*', 'define', 'defined', 'defines', 'defining', 'definite', 'definitely', 'definition', 'definitive*', 'desir*', 'despite', 'detect', 'detected', 'detection', 'detects', 'determine', 'determined', 'determines', 'determining', 'diagnos*', 'differentiat*', 'disbelie*', 'discern*', 'discover*', 'disillusion*', 'disorient*', 'distinguish*', 'distract*', 'doubt*', 'dubious*', 'dunno', 'effect*', 'either', 'else', 'enlighten*', 'essentially', 'estim*', 'evaluat*', 'evidence', 'evident*', 'examin*', 'except', 'exception', 'exceptions', 'expect*', 'experiment*', 'explain', 'explained', 'explaining', 'explains', 'explanat*', 'explicit*', 'explor*', 'fact', 'factor', 'facts', 'factual*', 'false*', 'feasible', 'feel', 'feeling', 'feelings', 'feels', 'felt', 'find', 'finding', 'findings', 'finds', 'foresee*', 'foresight*', 'forget*', 'forgot*', 'found', 'frankly', 'fundamental', 'fundamentally', 'fundamentals', 'generaliz*', 'generally', 'guess', 'guessed', 'guesses', 'guessing', 'guesstimat*', 'heed*', 'hesita*', 'hypothes*', 'hypothetic*', 'idea', 'ideal*', 'ideas', 'ideat*', 'identif*', 'idk', 'ignor*', 'ikr', 'imagin*', 'implica*', 'implicit*', 'implie*', 'imply*', 'impossible', 'indecis*', 'indeed', 'induc*', 'inevitab*', 'infer', 'inferen*', 'inferr*', 'infers', 'info', 'inform', 'information*', 'informative*', 'informed', 'informing', 'informs', 'inquir*', 'inscrut*', 'insight*', 'inspir*', 'instead', 'intend*', 'intent*', 'interpret*', 'irrefu*', 'justif*', 'kind of', 'kinda', 'kindof', 'kinds', 'knew', 'know', 'knowab*', 'knowing', 'knowledg*', 'known', 'knows', 'learn', 'learned', 'learner', 'learners', 'learning', 'learns', 'learnt', 'lesson*', 'likel*', 'logic*', 'mainly', 'may', 'maybe', 'meaning*', 'means', 'meant', 'meanwhile', 'meditat*', 'memorabl*', 'memories', 'memoris*', 'memoriz*', 'memory', 'methinks', 'mindful*', 'minus', 'mistak*', 'misunder*', 'myster*', 'namely', 'nevertheless', 'nonetheless', 'nor', 'notice', 'noticed', 'notices', 'noticing', 'obscur*', 'obvious', 'obviously', 'obviousness', 'odd', 'odder', 'oddest', 'opinion*', 'otherwise', 'outcome*', 'perhaps', 'plan', 'planned', 'planning', 'plans', 'ponder*', 'possibily', 'possible', 'potentially', 'predict*', 'presume', 'presumed', 'presumedly', 'presumes', 'presuming', 'presumingly', 'presumption*', 'presupp*', 'pretend*', 'probabil*', 'probable', 'probably', 'problem*', 'prolly', 'proof*', 'prove*', 'proving', 'provok*', 'purpose*', 'puzzl*', 'quer*', 'question', 'questioned', 'questioning', 'questions', 'random', 'randomly', 'randomness', 'rational*', 'realization*', 'realize', 'realized', 'realizes', 'realizing', 'reason*', 'recall*', 'reckon*', 'recogni*', 'recollect*', 'reconsider*', 'reevaluat*', 'regarding', 'regardless', 'remember', 'remembered', 'remembering', 'remembers', 'resolu*', 'resolv*', 'respective', 'respectively', 'result*', 'rethink*', 'revelat*', 'ruminat*', 'sans', 'savvy', 'scrut*', 'secret', 'secretive', 'secretively', 'secrets', 'seem', 'seemed', 'seeming*', 'seems', 'sense', 'sensed', 'senses', 'sensing', 'separately', 'since', 'skeptic*', 'solution*', 'solve', 'solved', 'solves', 'solving', 'somehow', 'sorta', 'sortof', 'sorts', 'sortsa', 'sought', 'specific', 'specifically', 'specifics', 'specify', 'spose', \"s'pose\", 'studied', 'studies', 'study', 'studying', 'suppose', 'supposed', 'supposes', 'supposing', 'supposition*', 'sure', 'surely', 'surmis*', 'suspect*', 'suspicio*', 'tentativ*', 'than', 'theor*', 'think', 'thinker*', 'thinking', 'thinks', 'thought', 'thoughtf*', 'thoughts', 'trick', 'tricked', 'trickier', 'trickiest', 'tricks', 'tricky', 'true', 'truest', 'truth*', 'unambigu*', 'unaware*', 'uncertain*', 'unclear*', 'undecided*', 'undeniab*', 'understand', 'understandab*', 'understanding*', 'understands', 'understood', 'undetermin*', 'undoubt*', 'unknowing', 'unknowingly', 'unknown', 'unlikel*', 'unquestion*', 'unresolv*', 'unsure*', 'vague', 'vaguely', 'vagueness', 'vaguer', 'vaguest', 'variab*', 'varied', 'varies', 'vary', 'wisdom', 'wise', 'wisely', 'wiser', 'wisest', 'wonder', 'wondered', 'wondering', 'wonders']"
   ]
  },
  {
   "cell_type": "markdown",
   "id": "6e83d529-d0c8-4631-a6dc-f7f94ea58a1d",
   "metadata": {},
   "source": [
    "## Computing category scores\n",
    "The functions below can be used to compute category scores as we have done so far in this course, i.e., count the number of matches between a given text and the terms in a given category, and divide this number by the total number of words in the text."
   ]
  },
  {
   "cell_type": "code",
   "execution_count": 6,
   "id": "fa31dbf8-1138-4b5b-a8c6-694883a64a34",
   "metadata": {},
   "outputs": [],
   "source": [
    "def count_matches(text, pattern):\n",
    "    if pattern.startswith('*') :\n",
    "        pattern = r\"[A-Za-z]*\" + pattern[1:]\n",
    "        \n",
    "    if pattern.endswith('*') :\n",
    "        pattern = pattern[:-1] + r\"[A-Za-z]*'\"\n",
    "    \n",
    "    m = r\"\\b\" + pattern + r\"\\b\"\n",
    "    matches = re.findall(pattern, text)\n",
    "    return len(matches)\n",
    "    \n",
    "def get_category_score(story_segment, category_term_list):\n",
    "    # Count the total number of times any word from the dictionary appears in the transcript\n",
    "    term_counts = 0\n",
    "    for dict_term in category_term_list :\n",
    "        term_counts += count_matches(story_segment.lower(), dict_term)\n",
    "    \n",
    "    # Count the total words in the transcript\n",
    "    tokens = word_tokenize(story_segment)\n",
    "    word_count = len(tokens)\n",
    "    \n",
    "    # Compute dictionary category score\n",
    "    category_score = term_counts/word_count\n",
    "    return category_score"
   ]
  },
  {
   "cell_type": "markdown",
   "id": "522b8b45-d5a8-40a1-96a3-dc28ee1fcb16",
   "metadata": {},
   "source": [
    "## Arc of Narrative\n",
    "The function below divides a given story into a number of specified segments (recommended value: 5), and computes the scores for each of the categories of staging, plot progression, and cognitive tension for each segment. Results are output as a dataframe."
   ]
  },
  {
   "cell_type": "code",
   "execution_count": 7,
   "id": "d488a532-fb65-4c30-a31e-427aaacd6546",
   "metadata": {},
   "outputs": [],
   "source": [
    "def get_AON_results(story_text, num_segments=5, \n",
    "                    staging_terms=staging_terms, \n",
    "                    plot_progression_terms=plot_progression_terms, \n",
    "                    cognitive_tension_terms=cognitive_tension_terms):\n",
    "    \n",
    "    tokens = word_tokenize(story_text.lower())\n",
    "    story_length = len(tokens)\n",
    "    segment_length = math.ceil(story_length/num_segments)\n",
    "    segment_index = segment_length-1\n",
    "    \n",
    "    # create an empty list of results to which we will add the results segment-by-segment\n",
    "    segment_results = []\n",
    "\n",
    "    # iterate over the segments\n",
    "    for ind in range(num_segments) :\n",
    "\n",
    "        # Get the \"segment\" of the story corresponding to the index\n",
    "        story_segment = \" \".join(tokens[segment_length*ind:segment_length*(ind+1)])\n",
    "        \n",
    "        # Compute the staging score, i.e., count the number of words in the story segment that\n",
    "        # match with the words from the category,divided by the total words in the text segment\n",
    "        staging_score = get_category_score(story_segment, staging_terms)\n",
    "\n",
    "        # Repeat this process for the other two categories\n",
    "        plot_progression_score = get_category_score(story_segment, plot_progression_terms)\n",
    "        cognitive_tension_score = get_category_score(story_segment, cognitive_tension_terms)\n",
    "\n",
    "        # Create a JSON-like result format for each segment\n",
    "        segment_result = { 'segment' : ind+1 ,\n",
    "                           'staging' : staging_score ,\n",
    "                           'plot progression' : plot_progression_score,\n",
    "                           'cognitive tension' : cognitive_tension_score }\n",
    "\n",
    "        # Add the result for this segment to the empty list created earlier\n",
    "        segment_results.append(segment_result)\n",
    "\n",
    "    # Convert the list of results into a dataframe\n",
    "    df = pd.json_normalize(segment_results)\n",
    "    return df"
   ]
  },
  {
   "cell_type": "markdown",
   "id": "4613235a-fa15-4386-be59-e3bfc963d600",
   "metadata": {},
   "source": [
    "# Calling the function\n",
    "To compute the category score for your story, call the above function and pass to it your story text, and input the number of segments (optional). If no segments are input, the default of 5 is taken as an argument."
   ]
  },
  {
   "cell_type": "code",
   "execution_count": 8,
   "id": "e1760b8a-1bbd-43a9-8244-f1642115e3aa",
   "metadata": {},
   "outputs": [],
   "source": [
    "results_df = get_AON_results(story_text, num_segments=5)"
   ]
  },
  {
   "cell_type": "code",
   "execution_count": 9,
   "id": "f844c954-2b5c-4281-b9c7-50780c465ad6",
   "metadata": {},
   "outputs": [
    {
     "data": {
      "text/html": [
       "<div>\n",
       "<style scoped>\n",
       "    .dataframe tbody tr th:only-of-type {\n",
       "        vertical-align: middle;\n",
       "    }\n",
       "\n",
       "    .dataframe tbody tr th {\n",
       "        vertical-align: top;\n",
       "    }\n",
       "\n",
       "    .dataframe thead th {\n",
       "        text-align: right;\n",
       "    }\n",
       "</style>\n",
       "<table border=\"1\" class=\"dataframe\">\n",
       "  <thead>\n",
       "    <tr style=\"text-align: right;\">\n",
       "      <th></th>\n",
       "      <th>segment</th>\n",
       "      <th>staging</th>\n",
       "      <th>plot progression</th>\n",
       "      <th>cognitive tension</th>\n",
       "    </tr>\n",
       "  </thead>\n",
       "  <tbody>\n",
       "    <tr>\n",
       "      <th>0</th>\n",
       "      <td>1</td>\n",
       "      <td>0.689189</td>\n",
       "      <td>1.040541</td>\n",
       "      <td>0.054054</td>\n",
       "    </tr>\n",
       "    <tr>\n",
       "      <th>1</th>\n",
       "      <td>2</td>\n",
       "      <td>0.878378</td>\n",
       "      <td>1.040541</td>\n",
       "      <td>0.040541</td>\n",
       "    </tr>\n",
       "    <tr>\n",
       "      <th>2</th>\n",
       "      <td>3</td>\n",
       "      <td>0.581081</td>\n",
       "      <td>1.148649</td>\n",
       "      <td>0.067568</td>\n",
       "    </tr>\n",
       "    <tr>\n",
       "      <th>3</th>\n",
       "      <td>4</td>\n",
       "      <td>0.797297</td>\n",
       "      <td>1.108108</td>\n",
       "      <td>0.067568</td>\n",
       "    </tr>\n",
       "    <tr>\n",
       "      <th>4</th>\n",
       "      <td>5</td>\n",
       "      <td>0.742857</td>\n",
       "      <td>0.985714</td>\n",
       "      <td>0.114286</td>\n",
       "    </tr>\n",
       "  </tbody>\n",
       "</table>\n",
       "</div>"
      ],
      "text/plain": [
       "   segment   staging  plot progression  cognitive tension\n",
       "0        1  0.689189          1.040541           0.054054\n",
       "1        2  0.878378          1.040541           0.040541\n",
       "2        3  0.581081          1.148649           0.067568\n",
       "3        4  0.797297          1.108108           0.067568\n",
       "4        5  0.742857          0.985714           0.114286"
      ]
     },
     "execution_count": 9,
     "metadata": {},
     "output_type": "execute_result"
    }
   ],
   "source": [
    "results_df"
   ]
  },
  {
   "cell_type": "markdown",
   "id": "70f3f141-1e2e-42a9-a1b2-d14c494a278a",
   "metadata": {},
   "source": [
    "## Standardizing the scores\n",
    "\n",
    "As you can see above, some category scores end up being much lower than others, given the nature of the category itself and the number of words in a story that fit that category. To bring each category to the same scale of 0-100, we can apply a [min-max normalization](https://en.wikipedia.org/wiki/Feature_scaling#Rescaling_(min-max_normalization)) to the values. We do this below."
   ]
  },
  {
   "cell_type": "code",
   "execution_count": 10,
   "id": "9b0fb6a1-9f19-4353-8d1a-ac1a4b26dbdc",
   "metadata": {},
   "outputs": [],
   "source": [
    "def minmax_norm(val, min_val, max_val):\n",
    "    norm = (val-min_val)/(max_val-min_val) *100\n",
    "    return norm\n",
    "\n",
    "# There is a more elegant way of achieving the below function, but I got lazy.\n",
    "def standardize_scores(df):\n",
    "    staging_min = df[\"staging\"].min()\n",
    "    staging_max = df[\"staging\"].max()\n",
    "    df[\"staging\"] = df.apply(lambda x: minmax_norm(x['staging'], staging_min, staging_max), axis=1)\n",
    "    plotprog_min = df[\"plot progression\"].min()\n",
    "    plotprog_max = df[\"plot progression\"].max()\n",
    "    df[\"plot progression\"] = df.apply(lambda x: minmax_norm(x['plot progression'], plotprog_min, plotprog_max), axis=1)\n",
    "    cogtens_min = df[\"cognitive tension\"].min()\n",
    "    cogtens_max = df[\"cognitive tension\"].max()\n",
    "    df[\"cognitive tension\"] = df.apply(lambda x: minmax_norm(x['cognitive tension'], cogtens_min, cogtens_max), axis=1)\n",
    "    return df"
   ]
  },
  {
   "cell_type": "code",
   "execution_count": 11,
   "id": "e6332ef6-a497-4973-be2f-92dc60d7b871",
   "metadata": {},
   "outputs": [
    {
     "data": {
      "text/html": [
       "<div>\n",
       "<style scoped>\n",
       "    .dataframe tbody tr th:only-of-type {\n",
       "        vertical-align: middle;\n",
       "    }\n",
       "\n",
       "    .dataframe tbody tr th {\n",
       "        vertical-align: top;\n",
       "    }\n",
       "\n",
       "    .dataframe thead th {\n",
       "        text-align: right;\n",
       "    }\n",
       "</style>\n",
       "<table border=\"1\" class=\"dataframe\">\n",
       "  <thead>\n",
       "    <tr style=\"text-align: right;\">\n",
       "      <th></th>\n",
       "      <th>segment</th>\n",
       "      <th>staging</th>\n",
       "      <th>plot progression</th>\n",
       "      <th>cognitive tension</th>\n",
       "    </tr>\n",
       "  </thead>\n",
       "  <tbody>\n",
       "    <tr>\n",
       "      <th>0</th>\n",
       "      <td>1</td>\n",
       "      <td>36.363636</td>\n",
       "      <td>33.649289</td>\n",
       "      <td>18.324607</td>\n",
       "    </tr>\n",
       "    <tr>\n",
       "      <th>1</th>\n",
       "      <td>2</td>\n",
       "      <td>100.000000</td>\n",
       "      <td>33.649289</td>\n",
       "      <td>0.000000</td>\n",
       "    </tr>\n",
       "    <tr>\n",
       "      <th>2</th>\n",
       "      <td>3</td>\n",
       "      <td>0.000000</td>\n",
       "      <td>100.000000</td>\n",
       "      <td>36.649215</td>\n",
       "    </tr>\n",
       "    <tr>\n",
       "      <th>3</th>\n",
       "      <td>4</td>\n",
       "      <td>72.727273</td>\n",
       "      <td>75.118483</td>\n",
       "      <td>36.649215</td>\n",
       "    </tr>\n",
       "    <tr>\n",
       "      <th>4</th>\n",
       "      <td>5</td>\n",
       "      <td>54.415584</td>\n",
       "      <td>0.000000</td>\n",
       "      <td>100.000000</td>\n",
       "    </tr>\n",
       "  </tbody>\n",
       "</table>\n",
       "</div>"
      ],
      "text/plain": [
       "   segment     staging  plot progression  cognitive tension\n",
       "0        1   36.363636         33.649289          18.324607\n",
       "1        2  100.000000         33.649289           0.000000\n",
       "2        3    0.000000        100.000000          36.649215\n",
       "3        4   72.727273         75.118483          36.649215\n",
       "4        5   54.415584          0.000000         100.000000"
      ]
     },
     "execution_count": 11,
     "metadata": {},
     "output_type": "execute_result"
    }
   ],
   "source": [
    "norm_results_df = standardize_scores(results_df.copy())\n",
    "norm_results_df"
   ]
  },
  {
   "cell_type": "markdown",
   "id": "753c04e5-eca5-4ca4-85b9-ba6a41e43be3",
   "metadata": {},
   "source": [
    "## Plotting the narrative arc\n",
    "We can now plot the \"narrative arc\" for each category to see how it rises and falls over each successive segment. To do this, we need to make a few changes to the table format first..."
   ]
  },
  {
   "cell_type": "code",
   "execution_count": 12,
   "id": "7e55bb9e-a91e-4bdb-90f8-8ed49c1d9a4a",
   "metadata": {},
   "outputs": [
    {
     "data": {
      "text/html": [
       "<div>\n",
       "<style scoped>\n",
       "    .dataframe tbody tr th:only-of-type {\n",
       "        vertical-align: middle;\n",
       "    }\n",
       "\n",
       "    .dataframe tbody tr th {\n",
       "        vertical-align: top;\n",
       "    }\n",
       "\n",
       "    .dataframe thead th {\n",
       "        text-align: right;\n",
       "    }\n",
       "</style>\n",
       "<table border=\"1\" class=\"dataframe\">\n",
       "  <thead>\n",
       "    <tr style=\"text-align: right;\">\n",
       "      <th></th>\n",
       "      <th>segment</th>\n",
       "      <th>category</th>\n",
       "      <th>score</th>\n",
       "    </tr>\n",
       "  </thead>\n",
       "  <tbody>\n",
       "    <tr>\n",
       "      <th>2</th>\n",
       "      <td>3</td>\n",
       "      <td>staging</td>\n",
       "      <td>0.000000</td>\n",
       "    </tr>\n",
       "    <tr>\n",
       "      <th>7</th>\n",
       "      <td>3</td>\n",
       "      <td>plot progression</td>\n",
       "      <td>100.000000</td>\n",
       "    </tr>\n",
       "    <tr>\n",
       "      <th>14</th>\n",
       "      <td>5</td>\n",
       "      <td>cognitive tension</td>\n",
       "      <td>100.000000</td>\n",
       "    </tr>\n",
       "    <tr>\n",
       "      <th>13</th>\n",
       "      <td>4</td>\n",
       "      <td>cognitive tension</td>\n",
       "      <td>36.649215</td>\n",
       "    </tr>\n",
       "    <tr>\n",
       "      <th>3</th>\n",
       "      <td>4</td>\n",
       "      <td>staging</td>\n",
       "      <td>72.727273</td>\n",
       "    </tr>\n",
       "  </tbody>\n",
       "</table>\n",
       "</div>"
      ],
      "text/plain": [
       "    segment           category       score\n",
       "2         3            staging    0.000000\n",
       "7         3   plot progression  100.000000\n",
       "14        5  cognitive tension  100.000000\n",
       "13        4  cognitive tension   36.649215\n",
       "3         4            staging   72.727273"
      ]
     },
     "execution_count": 12,
     "metadata": {},
     "output_type": "execute_result"
    }
   ],
   "source": [
    "results_plot_df = pd.melt(norm_results_df, id_vars=[\"segment\"], value_vars=[\"staging\", \"plot progression\", \"cognitive tension\"])\n",
    "results_plot_df = results_plot_df.rename(columns={\"variable\" : \"category\", \"value\" : \"score\"})\n",
    "results_plot_df.sample(5)"
   ]
  },
  {
   "cell_type": "markdown",
   "id": "b4201e21-f124-4051-9952-f69b4457f44e",
   "metadata": {},
   "source": [
    "...and then plot the values."
   ]
  },
  {
   "cell_type": "code",
   "execution_count": 13,
   "id": "8c3831ba-3929-437b-9e84-1e5d864cdecb",
   "metadata": {},
   "outputs": [
    {
     "data": {
      "image/png": "[encoded data removed]",
      "text/plain": [
       "<Figure size 900x300 with 3 Axes>"
      ]
     },
     "metadata": {},
     "output_type": "display_data"
    }
   ],
   "source": [
    "rc = {\n",
    " 'axes.edgecolor': '#777',\n",
    " 'axes.labelcolor': '#777',\n",
    " 'xtick.color': '#777',\n",
    " 'ytick.color': '#777',\n",
    "}\n",
    "\n",
    "sns.set_style('ticks', rc=rc)\n",
    "sns.set_context('paper')\n",
    "g = sns.FacetGrid(data=results_plot_df, col=\"category\")\n",
    "h = g.map(sns.lineplot, \"segment\", \"score\", color=\"#5c89b5\", lw=1.5)"
   ]
  },
  {
   "cell_type": "code",
   "execution_count": null,
   "id": "a4b74a43-b2fd-48d4-9125-0872e1c99166",
   "metadata": {},
   "outputs": [],
   "source": []
  }
 ],
 "metadata": {
  "kernelspec": {
   "display_name": "Python 3 (ipykernel)",
   "language": "python",
   "name": "python3"
  },
  "language_info": {
   "codemirror_mode": {
    "name": "ipython",
    "version": 3
   },
   "file_extension": ".py",
   "mimetype": "text/x-python",
   "name": "python",
   "nbconvert_exporter": "python",
   "pygments_lexer": "ipython3",
   "version": "3.12.2"
  }
 },
 "nbformat": 4,
 "nbformat_minor": 5
}
