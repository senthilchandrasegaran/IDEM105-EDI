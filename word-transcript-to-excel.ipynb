{
 "cells": [
  {
   "cell_type": "markdown",
   "id": "b2f4935c-cb3d-42e8-a9e4-533a708d7383",
   "metadata": {},
   "source": [
    "# Convert Word (Transcript) to DataFrame\n",
    "\n",
    "[Click here](https://colab.research.google.com/github/senthilchandrasegaran/IDEM105-EDI/blob/main/word-transcript-to-excel.ipynb) to open this notebook in Colab.\n",
    "\n",
    "Transcription using MS Word creates a format where timestamp and speaker are on one line, and the utterance is on the next. This notebook converts this format (from a Word docx file) to a CSV or Excel file by first converting it into a Pandas DataFrame first."
   ]
  },
  {
   "cell_type": "code",
   "execution_count": 1,
   "id": "3e97690b-24ba-405a-a8a5-5e05555a5c17",
   "metadata": {},
   "outputs": [
    {
     "name": "stdout",
     "output_type": "stream",
     "text": [
      "Requirement already satisfied: docx2txt in /Library/Frameworks/Python.framework/Versions/3.12/lib/python3.12/site-packages (0.8)\n"
     ]
    }
   ],
   "source": [
    "!pip install docx2txt\n",
    "import docx2txt\n",
    "import pandas as pd\n",
    "from IPython.display import display, Markdown"
   ]
  },
  {
   "cell_type": "markdown",
   "id": "2b2e0fe4-81cd-4ebc-9c9d-c305d04492f4",
   "metadata": {},
   "source": [
    "### Get relevant text from the Word Doc\n",
    "The Word document often contains some preamble, typically followed by the word `Transcript` after which the transcript begins. Test this assumption by printing the contents of the variable `text` below. If this is correct, then only extract the text _after_ the word 'Transcript'."
   ]
  },
  {
   "cell_type": "code",
   "execution_count": 2,
   "id": "2a3facdb-4e49-4aad-92e2-29985ed79435",
   "metadata": {},
   "outputs": [
    {
     "data": {
      "text/plain": [
       "\"T\\n\\nBoth. But you have to record everything.  \\n\\nM\\n\\nNice. I'm Mia. Nice to meet you. We know each other. This is Bas. Who Is I don't know What. \\n\\nB\\n\\nI'm doing something important.\\n\\nM\\n\\nOK whatever\\n\\nT\\n\\nDo you know any quiet places here at the faculty?\\n\\nM\\n\\nwe could do, we could get, like a meeting room and then go like we can get that meeting room over there.\\n\\nR\\n\\nIn the project room maybe? \\n\\nT\\n\\nOhh yeah, we can just steal one.\\n\\nM\\n\\nOh yes, we can check the project rooms. But I feel like those were alw\""
      ]
     },
     "execution_count": 2,
     "metadata": {},
     "output_type": "execute_result"
    }
   ],
   "source": [
    "transcript_path = \"data/mia-transcript.docx\"\n",
    "transcript = docx2txt.process(transcript_path)\n",
    "# print the first 500 characters, just to check.\n",
    "transcript[:500]"
   ]
  },
  {
   "cell_type": "markdown",
   "id": "970d7329-09e1-40ee-b123-c7b2a286cb72",
   "metadata": {},
   "source": [
    "### Clean up the text\n",
    "A number of carriage returns will be in the text file. This is useful to split up the file into lines, so the code below does the following:\n",
    "1. Splits the text into lines where a line is either a `timestamp, speaker` combo an `utterance`, or an empty line (in case of multiple successive carriage returns;\n",
    "2. Removes all empty lines;\n",
    "3. Replaces all non-breaking spaces (unicode: `\\xa0`)\n",
    "4. Splits the `'timestamp, speaker'` string combination into a list with `['timestamp', 'speaker']` in it."
   ]
  },
  {
   "cell_type": "code",
   "execution_count": 3,
   "id": "ad76aaac-e9f2-469f-9cf1-084774c4b5f4",
   "metadata": {},
   "outputs": [
    {
     "data": {
      "text/plain": [
       "['T',\n",
       " 'Both. But you have to record everything.',\n",
       " 'M',\n",
       " \"Nice. I'm Mia. Nice to meet you. We know each other. This is Bas. Who Is I don't know What.\",\n",
       " 'B',\n",
       " \"I'm doing something important.\",\n",
       " 'M',\n",
       " 'OK whatever',\n",
       " 'T',\n",
       " 'Do you know any quiet places here at the faculty?']"
      ]
     },
     "execution_count": 3,
     "metadata": {},
     "output_type": "execute_result"
    }
   ],
   "source": [
    "transcript_list = transcript.split(\"\\n\")\n",
    "transcript_list = [s.strip() for s in transcript_list if len(s.strip()) > 0]\n",
    "transcript_list = [s.replace('\\xa0',  ' ') for s in transcript_list]\n",
    "transcript_list[0:10] # print the entire transcript (i.e., remove the range of [0:10]) if you want to check your entire transcript."
   ]
  },
  {
   "cell_type": "code",
   "execution_count": 4,
   "id": "fc3eed88-28bb-4514-be94-c4037c85360f",
   "metadata": {},
   "outputs": [
    {
     "name": "stdout",
     "output_type": "stream",
     "text": [
      "Remove last item if it is incomplete.\n",
      "--------------------------- LAST 4 LINES ---------------------------\n",
      "T\n",
      "Yes\n",
      "M\n",
      "I think we should stop that.\n",
      "-------------------------------- END -------------------------------\n"
     ]
    }
   ],
   "source": [
    "print(\"Remove last item if it is incomplete.\")\n",
    "print('--------------------------- LAST 4 LINES ---------------------------')\n",
    "for t in transcript_list[-4:] :\n",
    "    print(t)\n",
    "print('-------------------------------- END -------------------------------')\n",
    "\n",
    "# Uncomment and re-run this cell if the last line is found to be incomplete\n",
    "# if type(transcript_list[-1]) == list :\n",
    "    # transcript_list.pop() "
   ]
  },
  {
   "cell_type": "markdown",
   "id": "c05d3e81-7576-4f7e-9ac5-a0b387d034cc",
   "metadata": {},
   "source": [
    "### Convert into DataFrame\n",
    "Conver the list with successive items being `['timestamp', 'speaker]` and `'utterance'` items into a DataFrame"
   ]
  },
  {
   "cell_type": "code",
   "execution_count": 5,
   "id": "9365a91d-0637-424c-98ee-5ab824997c4c",
   "metadata": {},
   "outputs": [],
   "source": [
    "transcript_triad = []\n",
    "for ind, line in enumerate(transcript_list) :\n",
    "    if ind % 2 == 0 and ind+1 < len(transcript_list):\n",
    "        # these are speaker/timestamp lines\n",
    "        if line[0].isdigit() :\n",
    "            # the start is a timestamp\n",
    "            timestamp = line.split(' ')[0]\n",
    "            speaker = ' '.join(line.split(' ')[1:])\n",
    "            utterance = transcript_list[ind+1]\n",
    "        else :\n",
    "        # The line contains speaker but not timestamps \n",
    "            timestamp = ''\n",
    "            speaker = line\n",
    "            if len(line.split(' ')) > 2 :\n",
    "                print(\"*****************************************\")\n",
    "                print(\"Problem found!\")\n",
    "                print(transcript_list[ind-3:ind+1])\n",
    "                print(ind)\n",
    "                print(\"*****************************************\")\n",
    "                break\n",
    "            utterance = transcript_list[ind+1]\n",
    "        turn_data = { 'timestamp' : timestamp,\n",
    "                      'speaker'   : speaker,\n",
    "                      'utterance' : utterance\n",
    "                    }\n",
    "        transcript_triad.append(turn_data)\n",
    "            "
   ]
  },
  {
   "cell_type": "code",
   "execution_count": 6,
   "id": "de27c557-8d23-41f9-8b54-72e542624908",
   "metadata": {},
   "outputs": [
    {
     "data": {
      "text/html": [
       "<div>\n",
       "<style scoped>\n",
       "    .dataframe tbody tr th:only-of-type {\n",
       "        vertical-align: middle;\n",
       "    }\n",
       "\n",
       "    .dataframe tbody tr th {\n",
       "        vertical-align: top;\n",
       "    }\n",
       "\n",
       "    .dataframe thead th {\n",
       "        text-align: right;\n",
       "    }\n",
       "</style>\n",
       "<table border=\"1\" class=\"dataframe\">\n",
       "  <thead>\n",
       "    <tr style=\"text-align: right;\">\n",
       "      <th></th>\n",
       "      <th>timestamp</th>\n",
       "      <th>speaker</th>\n",
       "      <th>utterance</th>\n",
       "    </tr>\n",
       "  </thead>\n",
       "  <tbody>\n",
       "    <tr>\n",
       "      <th>381</th>\n",
       "      <td></td>\n",
       "      <td>M</td>\n",
       "      <td>Yeah, I was thinking to say. Yeah, lock your c...</td>\n",
       "    </tr>\n",
       "    <tr>\n",
       "      <th>222</th>\n",
       "      <td></td>\n",
       "      <td>R</td>\n",
       "      <td>sorry guys, I was sending an email.</td>\n",
       "    </tr>\n",
       "    <tr>\n",
       "      <th>73</th>\n",
       "      <td></td>\n",
       "      <td>M</td>\n",
       "      <td>I think we should make a 3D like, like, like, ...</td>\n",
       "    </tr>\n",
       "    <tr>\n",
       "      <th>183</th>\n",
       "      <td></td>\n",
       "      <td>M</td>\n",
       "      <td>OK, let's come up with something then, and the...</td>\n",
       "    </tr>\n",
       "    <tr>\n",
       "      <th>698</th>\n",
       "      <td></td>\n",
       "      <td>T</td>\n",
       "      <td>I was talking to the lecturer and apparently t...</td>\n",
       "    </tr>\n",
       "  </tbody>\n",
       "</table>\n",
       "</div>"
      ],
      "text/plain": [
       "    timestamp speaker                                          utterance\n",
       "381                 M  Yeah, I was thinking to say. Yeah, lock your c...\n",
       "222                 R                sorry guys, I was sending an email.\n",
       "73                  M  I think we should make a 3D like, like, like, ...\n",
       "183                 M  OK, let's come up with something then, and the...\n",
       "698                 T  I was talking to the lecturer and apparently t..."
      ]
     },
     "execution_count": 6,
     "metadata": {},
     "output_type": "execute_result"
    }
   ],
   "source": [
    "# print(transcript_triad)\n",
    "df = pd.DataFrame(transcript_triad)\n",
    "df.sample(5)"
   ]
  },
  {
   "cell_type": "markdown",
   "id": "6dafbb11-b846-436e-b4fa-1ffb298b3c30",
   "metadata": {},
   "source": [
    "### Save DataFrame\n",
    "Because this involves text which can have punctuations including commas and semicolons, a CSV file is not recommended. Instead, save it as an excel file."
   ]
  },
  {
   "cell_type": "code",
   "execution_count": 7,
   "id": "75456e34-0f65-487f-ad01-d8f9ef496267",
   "metadata": {},
   "outputs": [
    {
     "name": "stdout",
     "output_type": "stream",
     "text": [
      "File saved to: data/mia-transcript.xlsx\n"
     ]
    }
   ],
   "source": [
    "excel_name = transcript_path.split(\".docx\")[0] + \".xlsx\"\n",
    "df.to_excel(excel_name)\n",
    "print(\"File saved to:\", excel_name)"
   ]
  },
  {
   "cell_type": "code",
   "execution_count": null,
   "id": "a61fca5e-d863-469b-a65f-2766ee5b1b7a",
   "metadata": {},
   "outputs": [],
   "source": []
  },
  {
   "cell_type": "code",
   "execution_count": null,
   "id": "69cbbce4-2516-416b-8fdd-a3cb3172e325",
   "metadata": {},
   "outputs": [],
   "source": []
  }
 ],
 "metadata": {
  "kernelspec": {
   "display_name": "Python 3 (ipykernel)",
   "language": "python",
   "name": "python3"
  },
  "language_info": {
   "codemirror_mode": {
    "name": "ipython",
    "version": 3
   },
   "file_extension": ".py",
   "mimetype": "text/x-python",
   "name": "python",
   "nbconvert_exporter": "python",
   "pygments_lexer": "ipython3",
   "version": "3.12.2"
  }
 },
 "nbformat": 4,
 "nbformat_minor": 5
}
